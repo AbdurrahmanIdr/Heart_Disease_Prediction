{
 "cells": [
  {
   "cell_type": "code",
   "execution_count": 5,
   "id": "initial_id",
   "metadata": {
    "collapsed": true,
    "ExecuteTime": {
     "end_time": "2024-04-15T18:32:22.297756Z",
     "start_time": "2024-04-15T18:32:21.927503800Z"
    }
   },
   "outputs": [],
   "source": [
    "import pandas as pd\n",
    "import numpy as np\n",
    "import matplotlib.pyplot as plt\n",
    "import seaborn as sns\n",
    "\n",
    "%matplotlib inline"
   ]
  },
  {
   "cell_type": "code",
   "outputs": [
    {
     "data": {
      "text/plain": "     age  gender  chest_pain  rest_bps  cholestrol  fasting_blood_sugar  \\\n31    65       1           0       120         177                    0   \n233   64       1           0       120         246                    0   \n52    62       1           2       130         231                    0   \n106   69       1           3       160         234                    1   \n32    44       1           1       130         219                    0   \n\n     rest_ecg  thalach  exer_angina  old_peak  slope  ca  thalassemia  target  \n31          1      140            0       0.4      2   0            3       1  \n233         0       96            1       2.2      0   1            2       0  \n52          1      146            0       1.8      1   3            3       1  \n106         0      131            0       0.1      1   1            2       1  \n32          0      188            0       0.0      2   0            2       1  ",
      "text/html": "<div>\n<style scoped>\n    .dataframe tbody tr th:only-of-type {\n        vertical-align: middle;\n    }\n\n    .dataframe tbody tr th {\n        vertical-align: top;\n    }\n\n    .dataframe thead th {\n        text-align: right;\n    }\n</style>\n<table border=\"1\" class=\"dataframe\">\n  <thead>\n    <tr style=\"text-align: right;\">\n      <th></th>\n      <th>age</th>\n      <th>gender</th>\n      <th>chest_pain</th>\n      <th>rest_bps</th>\n      <th>cholestrol</th>\n      <th>fasting_blood_sugar</th>\n      <th>rest_ecg</th>\n      <th>thalach</th>\n      <th>exer_angina</th>\n      <th>old_peak</th>\n      <th>slope</th>\n      <th>ca</th>\n      <th>thalassemia</th>\n      <th>target</th>\n    </tr>\n  </thead>\n  <tbody>\n    <tr>\n      <th>31</th>\n      <td>65</td>\n      <td>1</td>\n      <td>0</td>\n      <td>120</td>\n      <td>177</td>\n      <td>0</td>\n      <td>1</td>\n      <td>140</td>\n      <td>0</td>\n      <td>0.4</td>\n      <td>2</td>\n      <td>0</td>\n      <td>3</td>\n      <td>1</td>\n    </tr>\n    <tr>\n      <th>233</th>\n      <td>64</td>\n      <td>1</td>\n      <td>0</td>\n      <td>120</td>\n      <td>246</td>\n      <td>0</td>\n      <td>0</td>\n      <td>96</td>\n      <td>1</td>\n      <td>2.2</td>\n      <td>0</td>\n      <td>1</td>\n      <td>2</td>\n      <td>0</td>\n    </tr>\n    <tr>\n      <th>52</th>\n      <td>62</td>\n      <td>1</td>\n      <td>2</td>\n      <td>130</td>\n      <td>231</td>\n      <td>0</td>\n      <td>1</td>\n      <td>146</td>\n      <td>0</td>\n      <td>1.8</td>\n      <td>1</td>\n      <td>3</td>\n      <td>3</td>\n      <td>1</td>\n    </tr>\n    <tr>\n      <th>106</th>\n      <td>69</td>\n      <td>1</td>\n      <td>3</td>\n      <td>160</td>\n      <td>234</td>\n      <td>1</td>\n      <td>0</td>\n      <td>131</td>\n      <td>0</td>\n      <td>0.1</td>\n      <td>1</td>\n      <td>1</td>\n      <td>2</td>\n      <td>1</td>\n    </tr>\n    <tr>\n      <th>32</th>\n      <td>44</td>\n      <td>1</td>\n      <td>1</td>\n      <td>130</td>\n      <td>219</td>\n      <td>0</td>\n      <td>0</td>\n      <td>188</td>\n      <td>0</td>\n      <td>0.0</td>\n      <td>2</td>\n      <td>0</td>\n      <td>2</td>\n      <td>1</td>\n    </tr>\n  </tbody>\n</table>\n</div>"
     },
     "execution_count": 6,
     "metadata": {},
     "output_type": "execute_result"
    }
   ],
   "source": [
    "df = pd.read_csv('HeartDisease.csv')\n",
    "df.sample(5)"
   ],
   "metadata": {
    "collapsed": false,
    "ExecuteTime": {
     "end_time": "2024-04-15T18:32:25.613732900Z",
     "start_time": "2024-04-15T18:32:25.445309400Z"
    }
   },
   "id": "28147f440b0866a2",
   "execution_count": 6
  },
  {
   "cell_type": "code",
   "outputs": [
    {
     "name": "stdout",
     "output_type": "stream",
     "text": [
      "<class 'pandas.core.frame.DataFrame'>\n",
      "RangeIndex: 303 entries, 0 to 302\n",
      "Data columns (total 14 columns):\n",
      " #   Column               Non-Null Count  Dtype  \n",
      "---  ------               --------------  -----  \n",
      " 0   age                  303 non-null    int64  \n",
      " 1   gender               303 non-null    int64  \n",
      " 2   chest_pain           303 non-null    int64  \n",
      " 3   rest_bps             303 non-null    int64  \n",
      " 4   cholestrol           303 non-null    int64  \n",
      " 5   fasting_blood_sugar  303 non-null    int64  \n",
      " 6   rest_ecg             303 non-null    int64  \n",
      " 7   thalach              303 non-null    int64  \n",
      " 8   exer_angina          303 non-null    int64  \n",
      " 9   old_peak             303 non-null    float64\n",
      " 10  slope                303 non-null    int64  \n",
      " 11  ca                   303 non-null    int64  \n",
      " 12  thalassemia          303 non-null    int64  \n",
      " 13  target               303 non-null    int64  \n",
      "dtypes: float64(1), int64(13)\n",
      "memory usage: 33.3 KB\n"
     ]
    }
   ],
   "source": [
    "df.info()"
   ],
   "metadata": {
    "collapsed": false,
    "ExecuteTime": {
     "end_time": "2024-04-15T18:37:30.319433900Z",
     "start_time": "2024-04-15T18:37:30.129563200Z"
    }
   },
   "id": "8074f96f42a6a6e9",
   "execution_count": 7
  },
  {
   "cell_type": "markdown",
   "source": [
    "From the info above all the features numeric with zero null observations"
   ],
   "metadata": {
    "collapsed": false
   },
   "id": "135657d4db918c90"
  },
  {
   "cell_type": "code",
   "outputs": [
    {
     "data": {
      "text/plain": "                     count        mean        std    min    25%    50%    75%  \\\nage                  303.0   54.366337   9.082101   29.0   47.5   55.0   61.0   \ngender               303.0    0.683168   0.466011    0.0    0.0    1.0    1.0   \nchest_pain           303.0    0.966997   1.032052    0.0    0.0    1.0    2.0   \nrest_bps             303.0  131.623762  17.538143   94.0  120.0  130.0  140.0   \ncholestrol           303.0  246.264026  51.830751  126.0  211.0  240.0  274.5   \nfasting_blood_sugar  303.0    0.148515   0.356198    0.0    0.0    0.0    0.0   \nrest_ecg             303.0    0.528053   0.525860    0.0    0.0    1.0    1.0   \nthalach              303.0  149.646865  22.905161   71.0  133.5  153.0  166.0   \nexer_angina          303.0    0.326733   0.469794    0.0    0.0    0.0    1.0   \nold_peak             303.0    1.039604   1.161075    0.0    0.0    0.8    1.6   \nslope                303.0    1.399340   0.616226    0.0    1.0    1.0    2.0   \nca                   303.0    0.729373   1.022606    0.0    0.0    0.0    1.0   \nthalassemia          303.0    2.313531   0.612277    0.0    2.0    2.0    3.0   \ntarget               303.0    0.544554   0.498835    0.0    0.0    1.0    1.0   \n\n                       max  \nage                   77.0  \ngender                 1.0  \nchest_pain             3.0  \nrest_bps             200.0  \ncholestrol           564.0  \nfasting_blood_sugar    1.0  \nrest_ecg               2.0  \nthalach              202.0  \nexer_angina            1.0  \nold_peak               6.2  \nslope                  2.0  \nca                     4.0  \nthalassemia            3.0  \ntarget                 1.0  ",
      "text/html": "<div>\n<style scoped>\n    .dataframe tbody tr th:only-of-type {\n        vertical-align: middle;\n    }\n\n    .dataframe tbody tr th {\n        vertical-align: top;\n    }\n\n    .dataframe thead th {\n        text-align: right;\n    }\n</style>\n<table border=\"1\" class=\"dataframe\">\n  <thead>\n    <tr style=\"text-align: right;\">\n      <th></th>\n      <th>count</th>\n      <th>mean</th>\n      <th>std</th>\n      <th>min</th>\n      <th>25%</th>\n      <th>50%</th>\n      <th>75%</th>\n      <th>max</th>\n    </tr>\n  </thead>\n  <tbody>\n    <tr>\n      <th>age</th>\n      <td>303.0</td>\n      <td>54.366337</td>\n      <td>9.082101</td>\n      <td>29.0</td>\n      <td>47.5</td>\n      <td>55.0</td>\n      <td>61.0</td>\n      <td>77.0</td>\n    </tr>\n    <tr>\n      <th>gender</th>\n      <td>303.0</td>\n      <td>0.683168</td>\n      <td>0.466011</td>\n      <td>0.0</td>\n      <td>0.0</td>\n      <td>1.0</td>\n      <td>1.0</td>\n      <td>1.0</td>\n    </tr>\n    <tr>\n      <th>chest_pain</th>\n      <td>303.0</td>\n      <td>0.966997</td>\n      <td>1.032052</td>\n      <td>0.0</td>\n      <td>0.0</td>\n      <td>1.0</td>\n      <td>2.0</td>\n      <td>3.0</td>\n    </tr>\n    <tr>\n      <th>rest_bps</th>\n      <td>303.0</td>\n      <td>131.623762</td>\n      <td>17.538143</td>\n      <td>94.0</td>\n      <td>120.0</td>\n      <td>130.0</td>\n      <td>140.0</td>\n      <td>200.0</td>\n    </tr>\n    <tr>\n      <th>cholestrol</th>\n      <td>303.0</td>\n      <td>246.264026</td>\n      <td>51.830751</td>\n      <td>126.0</td>\n      <td>211.0</td>\n      <td>240.0</td>\n      <td>274.5</td>\n      <td>564.0</td>\n    </tr>\n    <tr>\n      <th>fasting_blood_sugar</th>\n      <td>303.0</td>\n      <td>0.148515</td>\n      <td>0.356198</td>\n      <td>0.0</td>\n      <td>0.0</td>\n      <td>0.0</td>\n      <td>0.0</td>\n      <td>1.0</td>\n    </tr>\n    <tr>\n      <th>rest_ecg</th>\n      <td>303.0</td>\n      <td>0.528053</td>\n      <td>0.525860</td>\n      <td>0.0</td>\n      <td>0.0</td>\n      <td>1.0</td>\n      <td>1.0</td>\n      <td>2.0</td>\n    </tr>\n    <tr>\n      <th>thalach</th>\n      <td>303.0</td>\n      <td>149.646865</td>\n      <td>22.905161</td>\n      <td>71.0</td>\n      <td>133.5</td>\n      <td>153.0</td>\n      <td>166.0</td>\n      <td>202.0</td>\n    </tr>\n    <tr>\n      <th>exer_angina</th>\n      <td>303.0</td>\n      <td>0.326733</td>\n      <td>0.469794</td>\n      <td>0.0</td>\n      <td>0.0</td>\n      <td>0.0</td>\n      <td>1.0</td>\n      <td>1.0</td>\n    </tr>\n    <tr>\n      <th>old_peak</th>\n      <td>303.0</td>\n      <td>1.039604</td>\n      <td>1.161075</td>\n      <td>0.0</td>\n      <td>0.0</td>\n      <td>0.8</td>\n      <td>1.6</td>\n      <td>6.2</td>\n    </tr>\n    <tr>\n      <th>slope</th>\n      <td>303.0</td>\n      <td>1.399340</td>\n      <td>0.616226</td>\n      <td>0.0</td>\n      <td>1.0</td>\n      <td>1.0</td>\n      <td>2.0</td>\n      <td>2.0</td>\n    </tr>\n    <tr>\n      <th>ca</th>\n      <td>303.0</td>\n      <td>0.729373</td>\n      <td>1.022606</td>\n      <td>0.0</td>\n      <td>0.0</td>\n      <td>0.0</td>\n      <td>1.0</td>\n      <td>4.0</td>\n    </tr>\n    <tr>\n      <th>thalassemia</th>\n      <td>303.0</td>\n      <td>2.313531</td>\n      <td>0.612277</td>\n      <td>0.0</td>\n      <td>2.0</td>\n      <td>2.0</td>\n      <td>3.0</td>\n      <td>3.0</td>\n    </tr>\n    <tr>\n      <th>target</th>\n      <td>303.0</td>\n      <td>0.544554</td>\n      <td>0.498835</td>\n      <td>0.0</td>\n      <td>0.0</td>\n      <td>1.0</td>\n      <td>1.0</td>\n      <td>1.0</td>\n    </tr>\n  </tbody>\n</table>\n</div>"
     },
     "execution_count": 9,
     "metadata": {},
     "output_type": "execute_result"
    }
   ],
   "source": [
    "df.describe().T"
   ],
   "metadata": {
    "collapsed": false,
    "ExecuteTime": {
     "end_time": "2024-04-15T18:39:16.422318100Z",
     "start_time": "2024-04-15T18:39:16.295766700Z"
    }
   },
   "id": "abcb180a64b05d21",
   "execution_count": 9
  },
  {
   "cell_type": "markdown",
   "source": [
    "From the statiscal description above the values are on features scales\n",
    "\n",
    "with large difference in mean median and std values"
   ],
   "metadata": {
    "collapsed": false
   },
   "id": "96e38e8aa639ffcb"
  },
  {
   "cell_type": "markdown",
   "source": [
    "## Plotting"
   ],
   "metadata": {
    "collapsed": false
   },
   "id": "3eb775e3a11ad336"
  },
  {
   "cell_type": "code",
   "outputs": [
    {
     "data": {
      "text/plain": "<Figure size 640x480 with 1 Axes>",
      "image/png": "[encoded data removed]"
     },
     "metadata": {},
     "output_type": "display_data"
    }
   ],
   "source": [
    "plt.hist(df[\"age\"])\n",
    "plt.xlabel(\"Age\")\n",
    "plt.ylabel(\"Number of patients\")\n",
    "plt.title(\"Distribution of age in heart disease data\")\n",
    "plt.show()"
   ],
   "metadata": {
    "collapsed": false,
    "ExecuteTime": {
     "end_time": "2024-04-15T18:43:27.845228200Z",
     "start_time": "2024-04-15T18:43:26.968773400Z"
    }
   },
   "id": "3eab410968dfc790",
   "execution_count": 14
  }
 ],
 "metadata": {
  "kernelspec": {
   "display_name": "Python 3",
   "language": "python",
   "name": "python3"
  },
  "language_info": {
   "codemirror_mode": {
    "name": "ipython",
    "version": 2
   },
   "file_extension": ".py",
   "mimetype": "text/x-python",
   "name": "python",
   "nbconvert_exporter": "python",
   "pygments_lexer": "ipython2",
   "version": "2.7.6"
  }
 },
 "nbformat": 4,
 "nbformat_minor": 5
}
