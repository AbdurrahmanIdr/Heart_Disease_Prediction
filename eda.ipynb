{
 "cells": [
  {
   "cell_type": "code",
   "execution_count": 5,
   "id": "initial_id",
   "metadata": {
    "collapsed": true,
    "ExecuteTime": {
     "end_time": "2024-04-15T18:32:22.297756Z",
     "start_time": "2024-04-15T18:32:21.927503800Z"
    }
   },
   "outputs": [],
   "source": [
    "import pandas as pd\n",
    "import numpy as np\n",
    "import matplotlib.pyplot as plt\n",
    "import seaborn as sns\n",
    "\n",
    "%matplotlib inline"
   ]
  },
  {
   "cell_type": "code",
   "outputs": [
    {
     "data": {
      "text/plain": "     age  gender  chest_pain  rest_bps  cholestrol  fasting_blood_sugar  \\\n31    65       1           0       120         177                    0   \n233   64       1           0       120         246                    0   \n52    62       1           2       130         231                    0   \n106   69       1           3       160         234                    1   \n32    44       1           1       130         219                    0   \n\n     rest_ecg  thalach  exer_angina  old_peak  slope  ca  thalassemia  target  \n31          1      140            0       0.4      2   0            3       1  \n233         0       96            1       2.2      0   1            2       0  \n52          1      146            0       1.8      1   3            3       1  \n106         0      131            0       0.1      1   1            2       1  \n32          0      188            0       0.0      2   0            2       1  ",
      "text/html": "<div>\n<style scoped>\n    .dataframe tbody tr th:only-of-type {\n        vertical-align: middle;\n    }\n\n    .dataframe tbody tr th {\n        vertical-align: top;\n    }\n\n    .dataframe thead th {\n        text-align: right;\n    }\n</style>\n<table border=\"1\" class=\"dataframe\">\n  <thead>\n    <tr style=\"text-align: right;\">\n      <th></th>\n      <th>age</th>\n      <th>gender</th>\n      <th>chest_pain</th>\n      <th>rest_bps</th>\n      <th>cholestrol</th>\n      <th>fasting_blood_sugar</th>\n      <th>rest_ecg</th>\n      <th>thalach</th>\n      <th>exer_angina</th>\n      <th>old_peak</th>\n      <th>slope</th>\n      <th>ca</th>\n      <th>thalassemia</th>\n      <th>target</th>\n    </tr>\n  </thead>\n  <tbody>\n    <tr>\n      <th>31</th>\n      <td>65</td>\n      <td>1</td>\n      <td>0</td>\n      <td>120</td>\n      <td>177</td>\n      <td>0</td>\n      <td>1</td>\n      <td>140</td>\n      <td>0</td>\n      <td>0.4</td>\n      <td>2</td>\n      <td>0</td>\n      <td>3</td>\n      <td>1</td>\n    </tr>\n    <tr>\n      <th>233</th>\n      <td>64</td>\n      <td>1</td>\n      <td>0</td>\n      <td>120</td>\n      <td>246</td>\n      <td>0</td>\n      <td>0</td>\n      <td>96</td>\n      <td>1</td>\n      <td>2.2</td>\n      <td>0</td>\n      <td>1</td>\n      <td>2</td>\n      <td>0</td>\n    </tr>\n    <tr>\n      <th>52</th>\n      <td>62</td>\n      <td>1</td>\n      <td>2</td>\n      <td>130</td>\n      <td>231</td>\n      <td>0</td>\n      <td>1</td>\n      <td>146</td>\n      <td>0</td>\n      <td>1.8</td>\n      <td>1</td>\n      <td>3</td>\n      <td>3</td>\n      <td>1</td>\n    </tr>\n    <tr>\n      <th>106</th>\n      <td>69</td>\n      <td>1</td>\n      <td>3</td>\n      <td>160</td>\n      <td>234</td>\n      <td>1</td>\n      <td>0</td>\n      <td>131</td>\n      <td>0</td>\n      <td>0.1</td>\n      <td>1</td>\n      <td>1</td>\n      <td>2</td>\n      <td>1</td>\n    </tr>\n    <tr>\n      <th>32</th>\n      <td>44</td>\n      <td>1</td>\n      <td>1</td>\n      <td>130</td>\n      <td>219</td>\n      <td>0</td>\n      <td>0</td>\n      <td>188</td>\n      <td>0</td>\n      <td>0.0</td>\n      <td>2</td>\n      <td>0</td>\n      <td>2</td>\n      <td>1</td>\n    </tr>\n  </tbody>\n</table>\n</div>"
     },
     "execution_count": 6,
     "metadata": {},
     "output_type": "execute_result"
    }
   ],
   "source": [
    "df = pd.read_csv('HeartDisease.csv')\n",
    "df.sample(5)"
   ],
   "metadata": {
    "collapsed": false,
    "ExecuteTime": {
     "end_time": "2024-04-15T18:32:25.613732900Z",
     "start_time": "2024-04-15T18:32:25.445309400Z"
    }
   },
   "id": "28147f440b0866a2",
   "execution_count": 6
  }
 ],
 "metadata": {
  "kernelspec": {
   "display_name": "Python 3",
   "language": "python",
   "name": "python3"
  },
  "language_info": {
   "codemirror_mode": {
    "name": "ipython",
    "version": 2
   },
   "file_extension": ".py",
   "mimetype": "text/x-python",
   "name": "python",
   "nbconvert_exporter": "python",
   "pygments_lexer": "ipython2",
   "version": "2.7.6"
  }
 },
 "nbformat": 4,
 "nbformat_minor": 5
}
